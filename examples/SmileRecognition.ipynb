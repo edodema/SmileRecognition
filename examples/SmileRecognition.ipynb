{
 "cells": [
  {
   "cell_type": "markdown",
   "metadata": {},
   "source": [
    "Get current working directory."
   ]
  },
  {
   "cell_type": "code",
   "execution_count": 1,
   "metadata": {},
   "outputs": [],
   "source": [
    "import os \n",
    "orig_dir = os.getcwd()"
   ]
  },
  {
   "cell_type": "markdown",
   "metadata": {},
   "source": [
    "Import libraries."
   ]
  },
  {
   "cell_type": "code",
   "execution_count": 2,
   "metadata": {},
   "outputs": [],
   "source": [
    "import numpy as np\n",
    "import pandas as pd\n",
    "import seaborn as sn\n",
    "import matplotlib.pyplot as plt\n",
    "from src.recognition.svm import SVM"
   ]
  },
  {
   "cell_type": "markdown",
   "metadata": {},
   "source": [
    "Load data and labels."
   ]
  },
  {
   "cell_type": "code",
   "execution_count": 3,
   "metadata": {
    "scrolled": false
   },
   "outputs": [],
   "source": [
    "samples_path = 'datasets/processed/landmarks.txt'\n",
    "labels_path = 'datasets/processed/valences.txt'\n",
    "\n",
    "X = np.loadtxt(samples_path, dtype=np.float32)\n",
    "y = np.loadtxt(labels_path).astype(int)"
   ]
  },
  {
   "cell_type": "markdown",
   "metadata": {},
   "source": [
    "Let's see how sample data is represented... "
   ]
  },
  {
   "cell_type": "code",
   "execution_count": 4,
   "metadata": {},
   "outputs": [
    {
     "name": "stdout",
     "output_type": "stream",
     "text": [
      "      0     1      2     3      4     5      6     7      8     9   ...  \\\n",
      "0  400.0  67.0  407.0  62.0  416.0  61.0  425.0  67.0  416.0  70.0  ...   \n",
      "1  400.0  67.0  407.0  62.0  416.0  61.0  424.0  67.0  416.0  71.0  ...   \n",
      "2  400.0  67.0  407.0  62.0  416.0  61.0  424.0  67.0  416.0  71.0  ...   \n",
      "3  400.0  68.0  407.0  62.0  416.0  61.0  424.0  67.0  416.0  71.0  ...   \n",
      "4  400.0  67.0  406.0  62.0  416.0  62.0  424.0  67.0  416.0  71.0  ...   \n",
      "\n",
      "      54     55     56     57     58     59     60     61     62     63  \n",
      "0  452.0  130.0  467.0  133.0  452.0  140.0  446.0  141.0  439.0  140.0  \n",
      "1  451.0  131.0  467.0  134.0  452.0  142.0  446.0  143.0  439.0  142.0  \n",
      "2  451.0  132.0  467.0  135.0  453.0  145.0  446.0  146.0  439.0  146.0  \n",
      "3  452.0  132.0  467.0  136.0  453.0  146.0  446.0  148.0  439.0  147.0  \n",
      "4  452.0  132.0  468.0  135.0  453.0  145.0  447.0  146.0  439.0  146.0  \n",
      "\n",
      "[5 rows x 64 columns]\n"
     ]
    }
   ],
   "source": [
    "Xdf = pd.DataFrame(X)\n",
    "print(Xdf.head())"
   ]
  },
  {
   "cell_type": "markdown",
   "metadata": {},
   "source": [
    "...and the same for responses."
   ]
  },
  {
   "cell_type": "code",
   "execution_count": 5,
   "metadata": {},
   "outputs": [
    {
     "name": "stdout",
     "output_type": "stream",
     "text": [
      "   0\n",
      "0  1\n",
      "1  1\n",
      "2  1\n",
      "3  1\n",
      "4  1\n"
     ]
    }
   ],
   "source": [
    "ydf = pd.DataFrame(y)\n",
    "print(ydf.head())"
   ]
  },
  {
   "cell_type": "markdown",
   "metadata": {},
   "source": [
    "Split data in train and test. "
   ]
  },
  {
   "cell_type": "code",
   "execution_count": 6,
   "metadata": {},
   "outputs": [],
   "source": [
    "from sklearn.model_selection import train_test_split\n",
    "\n",
    "X_train, X_test, y_train, y_test = train_test_split(X, y)"
   ]
  },
  {
   "cell_type": "markdown",
   "metadata": {},
   "source": [
    "See sample data's distribution."
   ]
  },
  {
   "cell_type": "code",
   "execution_count": 7,
   "metadata": {},
   "outputs": [
    {
     "data": {
      "image/png": "[encoded data removed]",
      "text/plain": [
       "<Figure size 432x288 with 1 Axes>"
      ]
     },
     "metadata": {
      "needs_background": "light"
     },
     "output_type": "display_data"
    }
   ],
   "source": [
    "plt.hist(X_train)\n",
    "plt.show()"
   ]
  },
  {
   "cell_type": "markdown",
   "metadata": {},
   "source": [
    "See response data's distribution"
   ]
  },
  {
   "cell_type": "code",
   "execution_count": 8,
   "metadata": {},
   "outputs": [
    {
     "data": {
      "image/png": "[encoded data removed]",
      "text/plain": [
       "<Figure size 432x288 with 1 Axes>"
      ]
     },
     "metadata": {
      "needs_background": "light"
     },
     "output_type": "display_data"
    }
   ],
   "source": [
    "plt.hist(y_train)\n",
    "plt.show()"
   ]
  },
  {
   "cell_type": "markdown",
   "metadata": {},
   "source": [
    "Initialize classifiers, one for $\\textit{scikit-learn}$ and one for $\\textit{OpenCV}$.\n"
   ]
  },
  {
   "cell_type": "code",
   "execution_count": 9,
   "metadata": {},
   "outputs": [],
   "source": [
    "rec_skl = SVM('skl')\n",
    "svm = rec_skl.load('datasets/processed/svm.pkl')"
   ]
  },
  {
   "cell_type": "markdown",
   "metadata": {},
   "source": [
    "Predict data "
   ]
  },
  {
   "cell_type": "code",
   "execution_count": 10,
   "metadata": {},
   "outputs": [],
   "source": [
    "prediction = rec_skl.predict(svm, X_test)\n",
    "\n",
    "data = [ [p, a] for p,a in zip(y_test, prediction)]\n",
    "\n",
    "df = pd.DataFrame(data, columns=['Actual', 'Predicted'])"
   ]
  },
  {
   "cell_type": "markdown",
   "metadata": {},
   "source": [
    "Prediction for the $\\textit{scikit-learn}$ SVM classifier"
   ]
  },
  {
   "cell_type": "code",
   "execution_count": 11,
   "metadata": {},
   "outputs": [
    {
     "name": "stdout",
     "output_type": "stream",
     "text": [
      "   Actual  Predicted\n",
      "0       1          1\n",
      "1       1          0\n",
      "2       0          1\n",
      "3       0          0\n",
      "4       1          1\n"
     ]
    }
   ],
   "source": [
    "print(df.head())"
   ]
  },
  {
   "cell_type": "markdown",
   "metadata": {},
   "source": [
    "Confusion matrixes."
   ]
  },
  {
   "cell_type": "code",
   "execution_count": 12,
   "metadata": {},
   "outputs": [
    {
     "data": {
      "image/png": "[encoded data removed]",
      "text/plain": [
       "<Figure size 432x288 with 2 Axes>"
      ]
     },
     "metadata": {
      "needs_background": "light"
     },
     "output_type": "display_data"
    },
    {
     "name": "stdout",
     "output_type": "stream",
     "text": [
      "True positives:\t 8231\n",
      "False positives: 1962\n",
      "True negatives:\t 19094\n",
      "False negatives: 4941\n",
      "TPR: 0.625\n",
      "FPR: 0.093\n",
      "TNR: 0.907\n",
      "FNR: 0.375\n"
     ]
    }
   ],
   "source": [
    "n = y_test.shape[0]\n",
    "\n",
    "confusion_matrix = pd.crosstab(df['Actual'], df['Predicted'], rownames=['Actual'], colnames=['Predicted'])\n",
    "sn.heatmap(confusion_matrix, annot=True)\n",
    "plt.title('Confusion matrix.')\n",
    "plt.show()\n",
    "\n",
    "tp = confusion_matrix[0][0]\n",
    "fp = confusion_matrix[0][1]\n",
    "fn = confusion_matrix[1][0]\n",
    "tn = confusion_matrix[1][1]\n",
    "\n",
    "tpr = tp/(tp+fn)\n",
    "tnr = tn/(fp+tn)\n",
    "fpr = 1-tnr\n",
    "fnr = 1-tpr\n",
    "\n",
    "print(\"True positives:\\t\", tp)\n",
    "print(\"False positives:\", fp)\n",
    "print(\"True negatives:\\t\", tn)\n",
    "print(\"False negatives:\", fn)\n",
    "\n",
    "print(\"TPR: {:.3f}\".format(tpr))\n",
    "print(\"FPR: {:.3f}\".format(fpr))\n",
    "print(\"TNR: {:.3f}\".format(tnr))\n",
    "print(\"FNR: {:.3f}\".format(fnr))"
   ]
  }
 ],
 "metadata": {
  "kernelspec": {
   "display_name": "Python 3.8.5 64-bit",
   "language": "python",
   "name": "python38564bitcd65b06326294bc487f8584982bc3687"
  },
  "language_info": {
   "codemirror_mode": {
    "name": "ipython",
    "version": 3
   },
   "file_extension": ".py",
   "mimetype": "text/x-python",
   "name": "python",
   "nbconvert_exporter": "python",
   "pygments_lexer": "ipython3",
   "version": "3.8.5"
  }
 },
 "nbformat": 4,
 "nbformat_minor": 2
}
